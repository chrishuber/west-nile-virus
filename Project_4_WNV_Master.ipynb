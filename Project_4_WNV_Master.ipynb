{
 "cells": [
  {
   "cell_type": "markdown",
   "metadata": {},
   "source": [
    "### Project 4 - West Nile Virus in Chicago"
   ]
  },
  {
   "cell_type": "markdown",
   "metadata": {},
   "source": [
    "<p><b>Statement of Purpose</b></p>\n",
    "<p>West Nile Virus is a contagious mosquito-born disease the City of Chicago is trying to control and/or eradicate.</p>\n",
    "<p>For this project we were given several datasets containing information regarding mosquitos found in traps,  the presence in them of West Nile Virus, ambient weather conditions, and pesticide spraying conducted all mapped to GPS latitude and longitude coordinates over the years 2007-2013.</p>\n",
    "<p>We plan to use thorough data analysis, careful feature selection and engineering, bootstrapping, and a variety of classification models to effectively predict the presence of West Nile Virus against a test dataset containing dates, locations, and trap numbers but not the number of mosquitos found in the traps.</p>"
   ]
  },
  {
   "cell_type": "code",
   "execution_count": 463,
   "metadata": {},
   "outputs": [
    {
     "data": {
      "text/html": [
       "\n",
       "<style>\n",
       "    div#notebook-container    { width: 95%; }\n",
       "    div#menubar-container     { width: 65%; }\n",
       "    div#maintoolbar-container { width: 99%; }\n",
       "</style>\n"
      ],
      "text/plain": [
       "<IPython.core.display.HTML object>"
      ]
     },
     "metadata": {},
     "output_type": "display_data"
    }
   ],
   "source": [
    "import pandas as pd\n",
    "import numpy as np\n",
    "import matplotlib.pyplot as plt\n",
    "import seaborn as sns\n",
    "\n",
    "from sklearn.linear_model import LogisticRegression\n",
    "from sklearn.model_selection import GridSearchCV\n",
    "from sklearn.cross_validation import train_test_split, KFold, cross_val_score, cross_val_predict\n",
    "from sklearn.pipeline import Pipeline\n",
    "from sklearn.feature_selection import SelectFromModel, SelectKBest, f_classif\n",
    "from sklearn.preprocessing import StandardScaler, RobustScaler\n",
    "from sklearn.ensemble import BaggingRegressor, RandomForestRegressor, ExtraTreesRegressor, AdaBoostRegressor, BaggingClassifier, RandomForestClassifier,ExtraTreesClassifier,AdaBoostClassifier\n",
    "from sklearn.neighbors import KNeighborsClassifier\n",
    "from sklearn.tree import DecisionTreeClassifier\n",
    "from sklearn.ensemble import BaggingClassifier, RandomForestClassifier, ExtraTreesClassifier, AdaBoostClassifier\n",
    "from sklearn.svm import SVC\n",
    "\n",
    "from IPython.display import display, HTML\n",
    "display(HTML(data=\"\"\"\n",
    "<style>\n",
    "    div#notebook-container    { width: 95%; }\n",
    "    div#menubar-container     { width: 65%; }\n",
    "    div#maintoolbar-container { width: 99%; }\n",
    "</style>\n",
    "\"\"\"))\n",
    "\n",
    "%matplotlib inline\n",
    "pd.set_option('display.max_columns', 999)"
   ]
  },
  {
   "cell_type": "markdown",
   "metadata": {},
   "source": [
    "### Preliminary EDA\n",
    "<p>Here we are changing values in the weather table where missing ('M') or trace ('  T') are entered to be averages of the preceding and following days to retain relevant numeric values.</p>\n",
    "<p>Also casting the date column to datetime datatype and then extracting the year as a seperate column.</p>"
   ]
  },
  {
   "cell_type": "code",
   "execution_count": 464,
   "metadata": {},
   "outputs": [],
   "source": [
    "def Tavg(row):\n",
    "    '''\n",
    "    Function to impute missing values for temperature\n",
    "    '''\n",
    "    if row['Tavg']!='M':\n",
    "        return row['Tavg']\n",
    "    else:\n",
    "        return (row['Tmax']+row['Tmin'])/2"
   ]
  },
  {
   "cell_type": "code",
   "execution_count": 465,
   "metadata": {},
   "outputs": [
    {
     "data": {
      "text/plain": [
       "Date                      datetime64[ns]\n",
       "Address                           object\n",
       "Species                           object\n",
       "Block                              int64\n",
       "Street                            object\n",
       "Trap                              object\n",
       "AddressNumberAndStreet            object\n",
       "Latitude                         float64\n",
       "Longitude                        float64\n",
       "AddressAccuracy                    int64\n",
       "NumMosquitos                       int64\n",
       "WnvPresent                         int64\n",
       "Year                               int64\n",
       "dtype: object"
      ]
     },
     "execution_count": 465,
     "metadata": {},
     "output_type": "execute_result"
    }
   ],
   "source": [
    "train = pd.read_csv('data/train.csv')\n",
    "test = pd.read_csv('data/test.csv')\n",
    "spray = pd.read_csv('data/spray.csv')\n",
    "weather = pd.read_csv('data/weather.csv')\n",
    "\n",
    "### changing '  T' and 'M' values for PrecipTotal in weather dataset\n",
    "weather['PrecipTotal'] = weather['PrecipTotal'].replace('  T', '0.001')\n",
    "weather['PrecipTotal'].at[117] = '0.00'\n",
    "weather['PrecipTotal'].at[119] = '0.00'\n",
    "\n",
    "### changing '  T' and 'M' values for WetBulb in weather dataset\n",
    "weather['WetBulb'].at[848] = 70\n",
    "weather['WetBulb'].at[2415] = 61\n",
    "weather['WetBulb'].at[2410] = 66\n",
    "weather['WetBulb'].at[2412] = 67\n",
    "\n",
    "### making PrecipTotal and WetBulb int datatype\n",
    "weather['PrecipTotal'] = pd.to_numeric(weather['PrecipTotal'])\n",
    "weather['WetBulb'] = pd.to_numeric(weather['WetBulb'])\n",
    "\n",
    "weather['Tavg'] = weather.apply(Tavg,axis=1)\n",
    "weather['Tavg'] = pd.to_numeric(weather['Tavg'])\n",
    "\n",
    "train['Date'] = pd.to_datetime(train['Date'])\n",
    "train['Year'] = train['Date'].map(lambda x: x.year)\n",
    "\n",
    "test['Date'] = pd.to_datetime(test['Date'])\n",
    "test['Year'] = test['Date'].map(lambda x: x.year)\n",
    "\n",
    "weather['Date'] = pd.to_datetime(weather['Date'])\n",
    "weather['Year'] = weather['Date'].map(lambda x: x.year)\n",
    "\n",
    "spray['Date'] = pd.to_datetime(spray['Date'])\n",
    "spray['Year'] = spray['Date'].map(lambda x: x.year)\n",
    "\n",
    "train.dtypes"
   ]
  },
  {
   "cell_type": "markdown",
   "metadata": {},
   "source": [
    "### Examining the Spray DataFrame for relevant dates as well as number of datapoints."
   ]
  },
  {
   "cell_type": "code",
   "execution_count": 466,
   "metadata": {},
   "outputs": [
    {
     "data": {
      "text/plain": [
       "2011-08-29      95\n",
       "2011-09-07    2114\n",
       "2013-07-17    2202\n",
       "2013-07-25    1607\n",
       "2013-08-08    1195\n",
       "2013-08-15    2668\n",
       "2013-08-16     141\n",
       "2013-08-22    1587\n",
       "2013-08-29    2302\n",
       "2013-09-05     924\n",
       "Name: Date, dtype: int64"
      ]
     },
     "execution_count": 466,
     "metadata": {},
     "output_type": "execute_result"
    }
   ],
   "source": [
    "spray['Date'].value_counts().sort_index()"
   ]
  },
  {
   "cell_type": "code",
   "execution_count": 467,
   "metadata": {},
   "outputs": [],
   "source": [
    "# import geoplotlib\n",
    "\n",
    "# train = pd.read_csv('data/train.csv')\n",
    "# train['lat']=train['Latitude']\n",
    "# train['lon']=train['Longitude']\n",
    "# geoplotlib.dot(train)\n",
    "# geoplotlib.show()"
   ]
  },
  {
   "cell_type": "markdown",
   "metadata": {},
   "source": [
    "### Function to merge Train or Test DataFrame with Weather data between any two sequential dates"
   ]
  },
  {
   "cell_type": "code",
   "execution_count": 468,
   "metadata": {},
   "outputs": [],
   "source": [
    "def merge_wnv_dfs(df, weather_df, min_date, max_date, weather_cols=['Tmax', 'Tmin', 'Tavg', 'DewPoint', \n",
    "                                                  'WetBulb', 'PrecipTotal']):\n",
    "    '''\n",
    "    Merges mosquito-related data with weather data using Date as an index\n",
    "    Uses an optional parameter of a list of weather columns to add\n",
    "    '''\n",
    "    ### set Date as index on Train on Test dataframe\n",
    "    df = df.set_index(['Date'])\n",
    "    df = df[(df.index >= min_date) & (df.index <= max_date)]\n",
    "    \n",
    "    ### set Date as index on Weather on Weather dataframe\n",
    "    weather_df = weather_df.set_index(['Date'])\n",
    "    \n",
    "    ### reduce Weather dataframe to relevant/requested columns\n",
    "    weather_df = weather_df[weather_cols]\n",
    "    \n",
    "    ### join Train on Test dataframe with Weather data\n",
    "    df = df.join(weather_df)\n",
    "    \n",
    "    ### double-checking for T values\n",
    "    if 'PrecipTotal' in weather_cols:\n",
    "        df['PrecipTotal'] = df['PrecipTotal'].replace('  T', '0.001')\n",
    "    return df"
   ]
  },
  {
   "cell_type": "code",
   "execution_count": 469,
   "metadata": {},
   "outputs": [
    {
     "data": {
      "text/html": [
       "<div>\n",
       "<table border=\"1\" class=\"dataframe\">\n",
       "  <thead>\n",
       "    <tr style=\"text-align: right;\">\n",
       "      <th></th>\n",
       "      <th>Address</th>\n",
       "      <th>Species</th>\n",
       "      <th>Block</th>\n",
       "      <th>Street</th>\n",
       "      <th>Trap</th>\n",
       "      <th>AddressNumberAndStreet</th>\n",
       "      <th>Latitude</th>\n",
       "      <th>Longitude</th>\n",
       "      <th>AddressAccuracy</th>\n",
       "      <th>NumMosquitos</th>\n",
       "      <th>WnvPresent</th>\n",
       "      <th>Year</th>\n",
       "      <th>Tmax</th>\n",
       "      <th>Tmin</th>\n",
       "      <th>Tavg</th>\n",
       "      <th>DewPoint</th>\n",
       "      <th>WetBulb</th>\n",
       "      <th>PrecipTotal</th>\n",
       "    </tr>\n",
       "    <tr>\n",
       "      <th>Date</th>\n",
       "      <th></th>\n",
       "      <th></th>\n",
       "      <th></th>\n",
       "      <th></th>\n",
       "      <th></th>\n",
       "      <th></th>\n",
       "      <th></th>\n",
       "      <th></th>\n",
       "      <th></th>\n",
       "      <th></th>\n",
       "      <th></th>\n",
       "      <th></th>\n",
       "      <th></th>\n",
       "      <th></th>\n",
       "      <th></th>\n",
       "      <th></th>\n",
       "      <th></th>\n",
       "      <th></th>\n",
       "    </tr>\n",
       "  </thead>\n",
       "  <tbody>\n",
       "    <tr>\n",
       "      <th>2009-05-28</th>\n",
       "      <td>4100 North Oak Park Avenue, Chicago, IL 60634,...</td>\n",
       "      <td>CULEX PIPIENS/RESTUANS</td>\n",
       "      <td>41</td>\n",
       "      <td>N OAK PARK AVE</td>\n",
       "      <td>T002</td>\n",
       "      <td>4100  N OAK PARK AVE, Chicago, IL</td>\n",
       "      <td>41.95469</td>\n",
       "      <td>-87.800991</td>\n",
       "      <td>9</td>\n",
       "      <td>2</td>\n",
       "      <td>0</td>\n",
       "      <td>2009</td>\n",
       "      <td>62</td>\n",
       "      <td>54</td>\n",
       "      <td>58.0</td>\n",
       "      <td>51</td>\n",
       "      <td>54</td>\n",
       "      <td>0.0</td>\n",
       "    </tr>\n",
       "    <tr>\n",
       "      <th>2009-05-28</th>\n",
       "      <td>4100 North Oak Park Avenue, Chicago, IL 60634,...</td>\n",
       "      <td>CULEX PIPIENS/RESTUANS</td>\n",
       "      <td>41</td>\n",
       "      <td>N OAK PARK AVE</td>\n",
       "      <td>T002</td>\n",
       "      <td>4100  N OAK PARK AVE, Chicago, IL</td>\n",
       "      <td>41.95469</td>\n",
       "      <td>-87.800991</td>\n",
       "      <td>9</td>\n",
       "      <td>2</td>\n",
       "      <td>0</td>\n",
       "      <td>2009</td>\n",
       "      <td>64</td>\n",
       "      <td>55</td>\n",
       "      <td>60.0</td>\n",
       "      <td>51</td>\n",
       "      <td>54</td>\n",
       "      <td>0.0</td>\n",
       "    </tr>\n",
       "  </tbody>\n",
       "</table>\n",
       "</div>"
      ],
      "text/plain": [
       "                                                      Address  \\\n",
       "Date                                                            \n",
       "2009-05-28  4100 North Oak Park Avenue, Chicago, IL 60634,...   \n",
       "2009-05-28  4100 North Oak Park Avenue, Chicago, IL 60634,...   \n",
       "\n",
       "                           Species  Block           Street  Trap  \\\n",
       "Date                                                               \n",
       "2009-05-28  CULEX PIPIENS/RESTUANS     41   N OAK PARK AVE  T002   \n",
       "2009-05-28  CULEX PIPIENS/RESTUANS     41   N OAK PARK AVE  T002   \n",
       "\n",
       "                       AddressNumberAndStreet  Latitude  Longitude  \\\n",
       "Date                                                                 \n",
       "2009-05-28  4100  N OAK PARK AVE, Chicago, IL  41.95469 -87.800991   \n",
       "2009-05-28  4100  N OAK PARK AVE, Chicago, IL  41.95469 -87.800991   \n",
       "\n",
       "            AddressAccuracy  NumMosquitos  WnvPresent  Year  Tmax  Tmin  Tavg  \\\n",
       "Date                                                                            \n",
       "2009-05-28                9             2           0  2009    62    54  58.0   \n",
       "2009-05-28                9             2           0  2009    64    55  60.0   \n",
       "\n",
       "            DewPoint  WetBulb  PrecipTotal  \n",
       "Date                                        \n",
       "2009-05-28        51       54          0.0  \n",
       "2009-05-28        51       54          0.0  "
      ]
     },
     "execution_count": 469,
     "metadata": {},
     "output_type": "execute_result"
    }
   ],
   "source": [
    "### one year\n",
    "train_2009 = merge_wnv_dfs(train, weather, '2009-01-01', '2009-12-31')\n",
    "train_2009.head(2)\n",
    "### one year\n",
    "# train_2009_one_week = merge_wnv_dfs(train, weather, '2009-09-15', '2009-09-22')\n",
    "# train_2009_one_week.tail(2)"
   ]
  },
  {
   "cell_type": "markdown",
   "metadata": {},
   "source": [
    "### Function to create merged entire Test/Train DataFrames with weather information using Station 1 data for top third of recorded latitudes and Station 2 data for bottom two thirds."
   ]
  },
  {
   "cell_type": "code",
   "execution_count": 470,
   "metadata": {},
   "outputs": [],
   "source": [
    "def merge_all_wnv_dfs(df, weather_df, weather_cols=['Date', 'Station', 'Tmax', 'Tmin', 'Tavg', 'DewPoint', 'WetBulb', 'PrecipTotal']):\n",
    "    ### takes directly imported data from train/test (prior to indexing Date column)\n",
    "    df['Date'] = pd.to_datetime(df['Date'])\n",
    "    df = df.set_index(['Date'])\n",
    "    \n",
    "    ### takes directly imported data from weather (prior to indexing Date column\n",
    "    weather_df = weather_df[weather_cols]\n",
    "    weather_df['Date'] = pd.to_datetime(weather_df['Date'])\n",
    "    weather_df = weather_df.set_index(['Date'])\n",
    "    \n",
    "    ### create empty df matching weather cols passed in to append rows to\n",
    "    weather_to_merge_df = pd.DataFrame(columns=weather_cols)\n",
    "    weather_to_merge_df = weather_to_merge_df.set_index(['Date'])\n",
    "\n",
    "    ### iterate over all rows in train/test dataframe and append weather data row\n",
    "    ### to new df based on latitude\n",
    "    for index, row in df.iterrows():\n",
    "        if row['Latitude'] >= 41.893:\n",
    "            weather_row = weather_df[(weather_df.index == index) & (weather_df['Station'] == 1)]\n",
    "        else:\n",
    "            weather_row = weather_df[(weather_df.index == index) & (weather_df['Station'] == 2)]\n",
    "        weather_to_merge_df = weather_to_merge_df.append(weather_row)\n",
    "\n",
    "    ### drop Station columns\n",
    "    weather_to_merge_df = weather_to_merge_df.drop(['Station'], axis=1)\n",
    "    ### concat two dfs together\n",
    "    df = pd.concat([df, weather_to_merge_df], axis=1)\n",
    "    return df\n",
    "            \n",
    "####################\n",
    "### NOTE: Only run the two lines below if you have about 1/2-1 hours to allow it to run\n",
    "###       This data has been saved off into .csv files to avoid having to generate it each time.\n",
    "####################\n",
    "# train_weather = merge_all_wnv_dfs(train, weather)\n",
    "# test_weather = merge_all_wnv_dfs(test, weather)\n",
    "train_weather = pd.read_csv('data/train_weather.csv')\n",
    "test_weather = pd.read_csv('data/test_weather.csv')\n",
    "\n",
    "train_weather['Date'] = pd.to_datetime(train_weather['Date'])\n",
    "train_weather = train_weather.set_index(['Date'])\n",
    "\n",
    "test_weather['Date'] = pd.to_datetime(test_weather['Date'])\n",
    "test_weather = test_weather.set_index(['Date'])\n",
    "\n",
    "# train_weather.info()"
   ]
  },
  {
   "cell_type": "markdown",
   "metadata": {},
   "source": [
    "### Defining function to output line chart of mosquito counts for any date range"
   ]
  },
  {
   "cell_type": "code",
   "execution_count": 471,
   "metadata": {},
   "outputs": [
    {
     "data": {
      "text/html": [
       "<div>\n",
       "<table border=\"1\" class=\"dataframe\">\n",
       "  <thead>\n",
       "    <tr style=\"text-align: right;\">\n",
       "      <th></th>\n",
       "      <th>Address</th>\n",
       "      <th>Species</th>\n",
       "      <th>Block</th>\n",
       "      <th>Street</th>\n",
       "      <th>Trap</th>\n",
       "      <th>AddressNumberAndStreet</th>\n",
       "      <th>Latitude</th>\n",
       "      <th>Longitude</th>\n",
       "      <th>AddressAccuracy</th>\n",
       "      <th>NumMosquitos</th>\n",
       "      <th>WnvPresent</th>\n",
       "      <th>Tmax</th>\n",
       "      <th>Tmin</th>\n",
       "      <th>Tavg</th>\n",
       "      <th>DewPoint</th>\n",
       "      <th>WetBulb</th>\n",
       "      <th>PrecipTotal</th>\n",
       "    </tr>\n",
       "    <tr>\n",
       "      <th>Date</th>\n",
       "      <th></th>\n",
       "      <th></th>\n",
       "      <th></th>\n",
       "      <th></th>\n",
       "      <th></th>\n",
       "      <th></th>\n",
       "      <th></th>\n",
       "      <th></th>\n",
       "      <th></th>\n",
       "      <th></th>\n",
       "      <th></th>\n",
       "      <th></th>\n",
       "      <th></th>\n",
       "      <th></th>\n",
       "      <th></th>\n",
       "      <th></th>\n",
       "      <th></th>\n",
       "    </tr>\n",
       "  </thead>\n",
       "  <tbody>\n",
       "    <tr>\n",
       "      <th>2007-05-29</th>\n",
       "      <td>4100 North Oak Park Avenue, Chicago, IL 60634,...</td>\n",
       "      <td>CULEX PIPIENS/RESTUANS</td>\n",
       "      <td>41</td>\n",
       "      <td>N OAK PARK AVE</td>\n",
       "      <td>T002</td>\n",
       "      <td>4100  N OAK PARK AVE, Chicago, IL</td>\n",
       "      <td>41.954690</td>\n",
       "      <td>-87.800991</td>\n",
       "      <td>9</td>\n",
       "      <td>1</td>\n",
       "      <td>0</td>\n",
       "      <td>88</td>\n",
       "      <td>60</td>\n",
       "      <td>74</td>\n",
       "      <td>58</td>\n",
       "      <td>65</td>\n",
       "      <td>0.0</td>\n",
       "    </tr>\n",
       "    <tr>\n",
       "      <th>2007-05-29</th>\n",
       "      <td>4100 North Oak Park Avenue, Chicago, IL 60634,...</td>\n",
       "      <td>CULEX RESTUANS</td>\n",
       "      <td>41</td>\n",
       "      <td>N OAK PARK AVE</td>\n",
       "      <td>T002</td>\n",
       "      <td>4100  N OAK PARK AVE, Chicago, IL</td>\n",
       "      <td>41.954690</td>\n",
       "      <td>-87.800991</td>\n",
       "      <td>9</td>\n",
       "      <td>1</td>\n",
       "      <td>0</td>\n",
       "      <td>88</td>\n",
       "      <td>60</td>\n",
       "      <td>74</td>\n",
       "      <td>58</td>\n",
       "      <td>65</td>\n",
       "      <td>0.0</td>\n",
       "    </tr>\n",
       "    <tr>\n",
       "      <th>2007-05-29</th>\n",
       "      <td>6200 North Mandell Avenue, Chicago, IL 60646, USA</td>\n",
       "      <td>CULEX RESTUANS</td>\n",
       "      <td>62</td>\n",
       "      <td>N MANDELL AVE</td>\n",
       "      <td>T007</td>\n",
       "      <td>6200  N MANDELL AVE, Chicago, IL</td>\n",
       "      <td>41.994991</td>\n",
       "      <td>-87.769279</td>\n",
       "      <td>9</td>\n",
       "      <td>1</td>\n",
       "      <td>0</td>\n",
       "      <td>88</td>\n",
       "      <td>60</td>\n",
       "      <td>74</td>\n",
       "      <td>58</td>\n",
       "      <td>65</td>\n",
       "      <td>0.0</td>\n",
       "    </tr>\n",
       "    <tr>\n",
       "      <th>2007-05-29</th>\n",
       "      <td>7900 West Foster Avenue, Chicago, IL 60656, USA</td>\n",
       "      <td>CULEX PIPIENS/RESTUANS</td>\n",
       "      <td>79</td>\n",
       "      <td>W FOSTER AVE</td>\n",
       "      <td>T015</td>\n",
       "      <td>7900  W FOSTER AVE, Chicago, IL</td>\n",
       "      <td>41.974089</td>\n",
       "      <td>-87.824812</td>\n",
       "      <td>8</td>\n",
       "      <td>1</td>\n",
       "      <td>0</td>\n",
       "      <td>88</td>\n",
       "      <td>60</td>\n",
       "      <td>74</td>\n",
       "      <td>58</td>\n",
       "      <td>65</td>\n",
       "      <td>0.0</td>\n",
       "    </tr>\n",
       "    <tr>\n",
       "      <th>2007-05-29</th>\n",
       "      <td>7900 West Foster Avenue, Chicago, IL 60656, USA</td>\n",
       "      <td>CULEX RESTUANS</td>\n",
       "      <td>79</td>\n",
       "      <td>W FOSTER AVE</td>\n",
       "      <td>T015</td>\n",
       "      <td>7900  W FOSTER AVE, Chicago, IL</td>\n",
       "      <td>41.974089</td>\n",
       "      <td>-87.824812</td>\n",
       "      <td>8</td>\n",
       "      <td>4</td>\n",
       "      <td>0</td>\n",
       "      <td>88</td>\n",
       "      <td>60</td>\n",
       "      <td>74</td>\n",
       "      <td>58</td>\n",
       "      <td>65</td>\n",
       "      <td>0.0</td>\n",
       "    </tr>\n",
       "  </tbody>\n",
       "</table>\n",
       "</div>"
      ],
      "text/plain": [
       "                                                      Address  \\\n",
       "Date                                                            \n",
       "2007-05-29  4100 North Oak Park Avenue, Chicago, IL 60634,...   \n",
       "2007-05-29  4100 North Oak Park Avenue, Chicago, IL 60634,...   \n",
       "2007-05-29  6200 North Mandell Avenue, Chicago, IL 60646, USA   \n",
       "2007-05-29    7900 West Foster Avenue, Chicago, IL 60656, USA   \n",
       "2007-05-29    7900 West Foster Avenue, Chicago, IL 60656, USA   \n",
       "\n",
       "                           Species  Block           Street  Trap  \\\n",
       "Date                                                               \n",
       "2007-05-29  CULEX PIPIENS/RESTUANS     41   N OAK PARK AVE  T002   \n",
       "2007-05-29          CULEX RESTUANS     41   N OAK PARK AVE  T002   \n",
       "2007-05-29          CULEX RESTUANS     62    N MANDELL AVE  T007   \n",
       "2007-05-29  CULEX PIPIENS/RESTUANS     79     W FOSTER AVE  T015   \n",
       "2007-05-29          CULEX RESTUANS     79     W FOSTER AVE  T015   \n",
       "\n",
       "                       AddressNumberAndStreet   Latitude  Longitude  \\\n",
       "Date                                                                  \n",
       "2007-05-29  4100  N OAK PARK AVE, Chicago, IL  41.954690 -87.800991   \n",
       "2007-05-29  4100  N OAK PARK AVE, Chicago, IL  41.954690 -87.800991   \n",
       "2007-05-29   6200  N MANDELL AVE, Chicago, IL  41.994991 -87.769279   \n",
       "2007-05-29    7900  W FOSTER AVE, Chicago, IL  41.974089 -87.824812   \n",
       "2007-05-29    7900  W FOSTER AVE, Chicago, IL  41.974089 -87.824812   \n",
       "\n",
       "            AddressAccuracy  NumMosquitos  WnvPresent  Tmax  Tmin  Tavg  \\\n",
       "Date                                                                      \n",
       "2007-05-29                9             1           0    88    60    74   \n",
       "2007-05-29                9             1           0    88    60    74   \n",
       "2007-05-29                9             1           0    88    60    74   \n",
       "2007-05-29                8             1           0    88    60    74   \n",
       "2007-05-29                8             4           0    88    60    74   \n",
       "\n",
       "            DewPoint  WetBulb  PrecipTotal  \n",
       "Date                                        \n",
       "2007-05-29        58       65          0.0  \n",
       "2007-05-29        58       65          0.0  \n",
       "2007-05-29        58       65          0.0  \n",
       "2007-05-29        58       65          0.0  \n",
       "2007-05-29        58       65          0.0  "
      ]
     },
     "execution_count": 471,
     "metadata": {},
     "output_type": "execute_result"
    }
   ],
   "source": [
    "train_weather.head()"
   ]
  },
  {
   "cell_type": "code",
   "execution_count": 472,
   "metadata": {},
   "outputs": [
    {
     "data": {
      "image/png": "[encoded data removed]",
      "text/plain": [
       "<Figure size 864x432 with 1 Axes>"
      ]
     },
     "metadata": {},
     "output_type": "display_data"
    }
   ],
   "source": [
    "def line_chart_mosquito_count(df):\n",
    "    plt.figure(figsize=(12, 6))\n",
    "    plt.xticks(rotation=90)\n",
    "    plt.title('Total Mosquito Count\\n', fontsize='18')\n",
    "    plt.plot(df['NumMosquitos'].groupby(df.index).sum())\n",
    "\n",
    "line_chart_mosquito_count(train_weather)"
   ]
  },
  {
   "cell_type": "markdown",
   "metadata": {},
   "source": [
    "### Defining function to output line chart for weather stats"
   ]
  },
  {
   "cell_type": "code",
   "execution_count": 473,
   "metadata": {},
   "outputs": [
    {
     "data": {
      "image/png": "[encoded data removed]",
      "text/plain": [
       "<Figure size 864x432 with 1 Axes>"
      ]
     },
     "metadata": {},
     "output_type": "display_data"
    }
   ],
   "source": [
    "def line_chart_weather(df):\n",
    "    plt.figure(figsize=(12, 6))\n",
    "    plt.xticks(rotation=90)\n",
    "    plt.plot(df['Tmin'].groupby(df.index).mean())\n",
    "    plt.plot(df['Tmax'].groupby(df.index).mean())\n",
    "    plt.plot(df['DewPoint'].groupby(df.index).mean())\n",
    "    plt.plot(df['WetBulb'].groupby(df.index).mean())\n",
    "    plt.title('Max and Min Temps and Dewpoint\\n', fontsize='18')\n",
    "    plt.legend()\n",
    "    \n",
    "line_chart_weather(train_weather)"
   ]
  },
  {
   "cell_type": "markdown",
   "metadata": {},
   "source": [
    "### Defining function to show precipitation for any date range"
   ]
  },
  {
   "cell_type": "code",
   "execution_count": 474,
   "metadata": {},
   "outputs": [
    {
     "data": {
      "image/png": "[encoded data removed]",
      "text/plain": [
       "<Figure size 864x432 with 1 Axes>"
      ]
     },
     "metadata": {},
     "output_type": "display_data"
    }
   ],
   "source": [
    "def line_chart_precip(df):\n",
    "    plt.figure(figsize=(12, 6))\n",
    "    plt.xticks(rotation=90)\n",
    "    plt.title('Precipitation Totals\\n', fontsize='18')\n",
    "    plt.plot(df['PrecipTotal'].groupby(df.index).mean())\n",
    "    \n",
    "line_chart_precip(train_weather)"
   ]
  },
  {
   "cell_type": "markdown",
   "metadata": {},
   "source": [
    "### Defining function to generate data to generate side-by side 10x10 one-day mosquito and WNV heatmaps for a list of N dates."
   ]
  },
  {
   "cell_type": "code",
   "execution_count": 475,
   "metadata": {},
   "outputs": [
    {
     "data": {
      "image/png": "[encoded data removed]",
      "text/plain": [
       "<Figure size 1440x1728 with 12 Axes>"
      ]
     },
     "metadata": {},
     "output_type": "display_data"
    }
   ],
   "source": [
    "def mosquitos_by_gps(df, dates=[], height=8, width=20):\n",
    "    fig, axes = plt.subplots(len(dates), 2, figsize=(width, height * len(dates)), squeeze=False)\n",
    "    \n",
    "    lats = np.linspace(42.1, 41.6, 11)\n",
    "    longs = np.linspace(-87.95, -87.4, 11)\n",
    "    \n",
    "    k = 0\n",
    "    for cur_date in dates:\n",
    "        date_df = df[df.index == cur_date]\n",
    "        mosquitos = []\n",
    "        wnvs = []\n",
    "        for i in range(0, 10):\n",
    "            mosquitos_list = []\n",
    "            wnvs_list = []\n",
    "            for j in range(0, 10):\n",
    "                grid_square = date_df[(date_df['Latitude'] <= lats[i]) & (date_df['Latitude'] >= lats[i+1])]\n",
    "                grid_square = grid_square[(grid_square['Longitude'] >= longs[j]) & (grid_square['Longitude'] <= longs[j+1])]\n",
    "                mosquitos_list.append(grid_square['NumMosquitos'].sum())\n",
    "                wnvs_list.append(grid_square['WnvPresent'].sum())\n",
    "            mosquitos.append(mosquitos_list)\n",
    "            wnvs.append(wnvs_list)\n",
    "        ax_curr = axes[k, 0]\n",
    "        sns.heatmap(mosquitos, ax=ax_curr)\n",
    "        ax_curr.set_title('Mosquito Counts for ' + str(cur_date), fontsize=18)        \n",
    "        ax_curr = axes[k, 1]\n",
    "        sns.heatmap(wnvs, ax=ax_curr)\n",
    "        ax_curr.set_title('WNV Counts for ' + str(cur_date), fontsize=18) \n",
    "        k += 1\n",
    "\n",
    "mosquitos_by_gps(train_weather, ['2009-08-25', '2009-09-03', '2009-09-14'])"
   ]
  },
  {
   "cell_type": "code",
   "execution_count": 476,
   "metadata": {},
   "outputs": [
    {
     "data": {
      "image/png": "[encoded data removed]",
      "text/plain": [
       "<Figure size 1440x2304 with 16 Axes>"
      ]
     },
     "metadata": {},
     "output_type": "display_data"
    }
   ],
   "source": [
    "plt.rcParams['xtick.color'] = 'black'\n",
    "plt.rcParams['ytick.color'] = 'black'\n",
    "\n",
    "def mosquitos_by_year_by_gps(df, years, height=8, width=20):\n",
    "    fig, axes = plt.subplots(len(years), 2, figsize=(width, height * len(years)), squeeze=False)\n",
    "    \n",
    "    lats = np.linspace(42.1, 41.6, 11)\n",
    "    longs = np.linspace(-87.95, -87.4, 11)\n",
    "    \n",
    "    k = 0\n",
    "    for year in years:\n",
    "        date_df = df[df['Year'] == year]\n",
    "        mosquitos = []\n",
    "        wnvs = []\n",
    "        for i in range(0, 10):\n",
    "            mosquitos_list = []\n",
    "            wnvs_list = []\n",
    "            for j in range(0, 10):\n",
    "                grid_square = date_df[(date_df['Latitude'] <= lats[i]) & (date_df['Latitude'] >= lats[i+1])]\n",
    "                grid_square = grid_square[(grid_square['Longitude'] >= longs[j]) & (grid_square['Longitude'] <= longs[j+1])]\n",
    "                mosquitos_list.append(grid_square['NumMosquitos'].sum())\n",
    "                wnvs_list.append(grid_square['WnvPresent'].sum())\n",
    "            mosquitos.append(mosquitos_list)\n",
    "            wnvs.append(wnvs_list)\n",
    "        ax_curr = axes[k, 0]\n",
    "        sns.heatmap(mosquitos, ax=ax_curr)\n",
    "        ax_curr.set_title('Mosquito Counts for ' + str(year), fontsize=18, color='k')        \n",
    "        ax_curr = axes[k, 1]\n",
    "        sns.heatmap(wnvs, ax=ax_curr)\n",
    "        ax_curr.set_title('WNV Counts for ' + str(year), fontsize=18, color='k') \n",
    "        k += 1\n",
    "\n",
    "mosquitos_by_year_by_gps(train, [2007, 2009, 2011, 2013])"
   ]
  },
  {
   "cell_type": "markdown",
   "metadata": {},
   "source": [
    "### Prep side dataset by running get_dummies() on copy on Species column"
   ]
  },
  {
   "cell_type": "code",
   "execution_count": 477,
   "metadata": {},
   "outputs": [],
   "source": [
    "train_species = train.set_index(['Date'])\n",
    "train_species = pd.get_dummies(train_species['Species'])\n",
    "train_species = train_species.groupby(train_species.index).sum()"
   ]
  },
  {
   "cell_type": "markdown",
   "metadata": {},
   "source": [
    "### Generate line chart of species counts for entire recorded period from 2007-2013."
   ]
  },
  {
   "cell_type": "code",
   "execution_count": 478,
   "metadata": {},
   "outputs": [
    {
     "data": {
      "text/plain": [
       "<matplotlib.legend.Legend at 0x11e8c1908>"
      ]
     },
     "execution_count": 478,
     "metadata": {},
     "output_type": "execute_result"
    },
    {
     "data": {
      "image/png": "[encoded data removed]",
      "text/plain": [
       "<Figure size 1440x432 with 1 Axes>"
      ]
     },
     "metadata": {},
     "output_type": "display_data"
    }
   ],
   "source": [
    "train_species = train_species.groupby(train_species.index).sum()\n",
    "\n",
    "plt.figure(figsize=(20, 6))\n",
    "plt.xticks(rotation=90)\n",
    "plt.plot(train_species)\n",
    "plt.title('Species Count by Date\\n', fontsize=24)\n",
    "plt.legend(labels=['CULEX ERRATICUS', 'CULEX PIPIENS', 'CULEX PIPIENS/RESTUANS', 'CULEX RESTUANS', 'CULEX SALINARIUS', 'CULEX TARSALIS', 'CULEX TERRITANS'])"
   ]
  },
  {
   "cell_type": "markdown",
   "metadata": {},
   "source": [
    "### Creating X and eventually y non-destructively by copying the train_weather df    "
   ]
  },
  {
   "cell_type": "code",
   "execution_count": 535,
   "metadata": {},
   "outputs": [],
   "source": [
    "X = train_weather.copy()\n",
    "\n",
    "### dropping non-numeric columns\n",
    "X = X.drop(['Address', 'Street', 'AddressNumberAndStreet', 'Latitude', 'Longitude', 'AddressAccuracy'], axis=1)\n",
    "\n",
    "### adding test-only traps to X(train) so the shapes match\n",
    "test_only_traps = ['T002A', 'T002B', 'T065A', 'T090A', 'T090B', 'T090C', 'T128A', 'T200A', 'T200B', 'T218A', 'T218B', 'T218C', 'T234']\n",
    "for trap in test_only_traps:\n",
    "    X[trap] = 0"
   ]
  },
  {
   "cell_type": "markdown",
   "metadata": {},
   "source": [
    "### Creating function to assign mosquito counts to new species columns"
   ]
  },
  {
   "cell_type": "code",
   "execution_count": 536,
   "metadata": {},
   "outputs": [
    {
     "data": {
      "text/html": [
       "<div>\n",
       "<table border=\"1\" class=\"dataframe\">\n",
       "  <thead>\n",
       "    <tr style=\"text-align: right;\">\n",
       "      <th></th>\n",
       "      <th>Species</th>\n",
       "      <th>Block</th>\n",
       "      <th>Trap</th>\n",
       "      <th>NumMosquitos</th>\n",
       "      <th>WnvPresent</th>\n",
       "      <th>Tmax</th>\n",
       "      <th>Tmin</th>\n",
       "      <th>Tavg</th>\n",
       "      <th>DewPoint</th>\n",
       "      <th>WetBulb</th>\n",
       "      <th>PrecipTotal</th>\n",
       "      <th>T002A</th>\n",
       "      <th>T002B</th>\n",
       "      <th>T065A</th>\n",
       "      <th>T090A</th>\n",
       "      <th>T090B</th>\n",
       "      <th>T090C</th>\n",
       "      <th>T128A</th>\n",
       "      <th>T200A</th>\n",
       "      <th>T200B</th>\n",
       "      <th>T218A</th>\n",
       "      <th>T218B</th>\n",
       "      <th>T218C</th>\n",
       "      <th>T234</th>\n",
       "      <th>Species_CULEX ERRATICUS</th>\n",
       "      <th>Species_CULEX PIPIENS</th>\n",
       "      <th>Species_CULEX PIPIENS/RESTUANS</th>\n",
       "      <th>Species_CULEX RESTUANS</th>\n",
       "      <th>Species_CULEX SALINARIUS</th>\n",
       "      <th>Species_CULEX TARSALIS</th>\n",
       "      <th>Species_CULEX TERRITANS</th>\n",
       "      <th>UNSPECIFIED CULEX</th>\n",
       "    </tr>\n",
       "    <tr>\n",
       "      <th>Date</th>\n",
       "      <th></th>\n",
       "      <th></th>\n",
       "      <th></th>\n",
       "      <th></th>\n",
       "      <th></th>\n",
       "      <th></th>\n",
       "      <th></th>\n",
       "      <th></th>\n",
       "      <th></th>\n",
       "      <th></th>\n",
       "      <th></th>\n",
       "      <th></th>\n",
       "      <th></th>\n",
       "      <th></th>\n",
       "      <th></th>\n",
       "      <th></th>\n",
       "      <th></th>\n",
       "      <th></th>\n",
       "      <th></th>\n",
       "      <th></th>\n",
       "      <th></th>\n",
       "      <th></th>\n",
       "      <th></th>\n",
       "      <th></th>\n",
       "      <th></th>\n",
       "      <th></th>\n",
       "      <th></th>\n",
       "      <th></th>\n",
       "      <th></th>\n",
       "      <th></th>\n",
       "      <th></th>\n",
       "      <th></th>\n",
       "    </tr>\n",
       "  </thead>\n",
       "  <tbody>\n",
       "    <tr>\n",
       "      <th>2013-09-26</th>\n",
       "      <td>CULEX PIPIENS/RESTUANS</td>\n",
       "      <td>71</td>\n",
       "      <td>T233</td>\n",
       "      <td>5</td>\n",
       "      <td>0</td>\n",
       "      <td>75</td>\n",
       "      <td>50</td>\n",
       "      <td>63</td>\n",
       "      <td>52</td>\n",
       "      <td>58</td>\n",
       "      <td>0.0</td>\n",
       "      <td>0</td>\n",
       "      <td>0</td>\n",
       "      <td>0</td>\n",
       "      <td>0</td>\n",
       "      <td>0</td>\n",
       "      <td>0</td>\n",
       "      <td>0</td>\n",
       "      <td>0</td>\n",
       "      <td>0</td>\n",
       "      <td>0</td>\n",
       "      <td>0</td>\n",
       "      <td>0</td>\n",
       "      <td>0</td>\n",
       "      <td>0</td>\n",
       "      <td>0</td>\n",
       "      <td>5</td>\n",
       "      <td>0</td>\n",
       "      <td>0</td>\n",
       "      <td>0</td>\n",
       "      <td>0</td>\n",
       "      <td>0</td>\n",
       "    </tr>\n",
       "    <tr>\n",
       "      <th>2013-09-26</th>\n",
       "      <td>CULEX PIPIENS/RESTUANS</td>\n",
       "      <td>42</td>\n",
       "      <td>T235</td>\n",
       "      <td>1</td>\n",
       "      <td>0</td>\n",
       "      <td>75</td>\n",
       "      <td>55</td>\n",
       "      <td>65</td>\n",
       "      <td>52</td>\n",
       "      <td>58</td>\n",
       "      <td>0.0</td>\n",
       "      <td>0</td>\n",
       "      <td>0</td>\n",
       "      <td>0</td>\n",
       "      <td>0</td>\n",
       "      <td>0</td>\n",
       "      <td>0</td>\n",
       "      <td>0</td>\n",
       "      <td>0</td>\n",
       "      <td>0</td>\n",
       "      <td>0</td>\n",
       "      <td>0</td>\n",
       "      <td>0</td>\n",
       "      <td>0</td>\n",
       "      <td>0</td>\n",
       "      <td>0</td>\n",
       "      <td>1</td>\n",
       "      <td>0</td>\n",
       "      <td>0</td>\n",
       "      <td>0</td>\n",
       "      <td>0</td>\n",
       "      <td>0</td>\n",
       "    </tr>\n",
       "  </tbody>\n",
       "</table>\n",
       "</div>"
      ],
      "text/plain": [
       "                           Species  Block  Trap  NumMosquitos  WnvPresent  \\\n",
       "Date                                                                        \n",
       "2013-09-26  CULEX PIPIENS/RESTUANS     71  T233             5           0   \n",
       "2013-09-26  CULEX PIPIENS/RESTUANS     42  T235             1           0   \n",
       "\n",
       "            Tmax  Tmin  Tavg  DewPoint  WetBulb  PrecipTotal  T002A  T002B  \\\n",
       "Date                                                                         \n",
       "2013-09-26    75    50    63        52       58          0.0      0      0   \n",
       "2013-09-26    75    55    65        52       58          0.0      0      0   \n",
       "\n",
       "            T065A  T090A  T090B  T090C  T128A  T200A  T200B  T218A  T218B  \\\n",
       "Date                                                                        \n",
       "2013-09-26      0      0      0      0      0      0      0      0      0   \n",
       "2013-09-26      0      0      0      0      0      0      0      0      0   \n",
       "\n",
       "            T218C  T234  Species_CULEX ERRATICUS  Species_CULEX PIPIENS  \\\n",
       "Date                                                                      \n",
       "2013-09-26      0     0                        0                      0   \n",
       "2013-09-26      0     0                        0                      0   \n",
       "\n",
       "            Species_CULEX PIPIENS/RESTUANS  Species_CULEX RESTUANS  \\\n",
       "Date                                                                 \n",
       "2013-09-26                               5                       0   \n",
       "2013-09-26                               1                       0   \n",
       "\n",
       "            Species_CULEX SALINARIUS  Species_CULEX TARSALIS  \\\n",
       "Date                                                           \n",
       "2013-09-26                         0                       0   \n",
       "2013-09-26                         0                       0   \n",
       "\n",
       "            Species_CULEX TERRITANS  UNSPECIFIED CULEX  \n",
       "Date                                                    \n",
       "2013-09-26                        0                  0  \n",
       "2013-09-26                        0                  0  "
      ]
     },
     "execution_count": 536,
     "metadata": {},
     "output_type": "execute_result"
    }
   ],
   "source": [
    "def add_nummosq_to_species(df, wnv_pos_only=True):\n",
    "    '''\n",
    "    Adds mosquito count to species using manually generated \"dummy\" columns\n",
    "    Optional parameter to only add numbers for WNV+ rows\n",
    "    '''\n",
    "    df = df.sort_index()\n",
    "    df = df.reset_index()\n",
    "    species_list = ['Species_CULEX ERRATICUS', 'Species_CULEX PIPIENS', 'Species_CULEX PIPIENS/RESTUANS', 'Species_CULEX RESTUANS', 'Species_CULEX SALINARIUS', 'Species_CULEX TARSALIS', 'Species_CULEX TERRITANS', 'UNSPECIFIED CULEX'] \n",
    "\n",
    "    for species in species_list:\n",
    "        df[species] = 0\n",
    "\n",
    "    for index, row in df.iterrows():\n",
    "        species = 'Species_' + row['Species'].upper()\n",
    "        if wnv_pos_only == True:\n",
    "            if row['WnvPresent'] == 1:\n",
    "                df.loc[index, species] = row['NumMosquitos']\n",
    "        else:\n",
    "            df.loc[index, species] = row['NumMosquitos']\n",
    "\n",
    "    df = df.set_index('Date')\n",
    "    return df\n",
    "\n",
    "### populates new species cols with mosquito count if WnvPresent == 1\n",
    "# X = add_nummosq_to_species(X)\n",
    "\n",
    "### populates new species cols with mosquito count regardless of WNV+/-\n",
    "X = add_nummosq_to_species(X, False)\n",
    "X.tail(2)"
   ]
  },
  {
   "cell_type": "markdown",
   "metadata": {},
   "source": [
    "### Bootstrapping"
   ]
  },
  {
   "cell_type": "code",
   "execution_count": 537,
   "metadata": {},
   "outputs": [
    {
     "data": {
      "text/plain": [
       "1    9955\n",
       "0    9955\n",
       "Name: WnvPresent, dtype: int64"
      ]
     },
     "execution_count": 537,
     "metadata": {},
     "output_type": "execute_result"
    }
   ],
   "source": [
    "def bootstrap_wnv(df, bs_size=9404):\n",
    "    '''\n",
    "    Bootstraps dataset to account for imbalance in WNV+ rows compared to WNV- rows\n",
    "    Row size default of 9404 directly related to numbers in this dataset\n",
    "    '''\n",
    "    X_boot = df.reset_index()\n",
    "    ind_train = np.random.choice(list(X_boot[X_boot['WnvPresent'] == 1].index), size=bs_size, replace=True)\n",
    "\n",
    "    train_ind = X_boot.iloc[ind_train,:]\n",
    "    train_ind.index = list(range(551,9955))\n",
    "\n",
    "    X_boot = pd.concat([X_boot, train_ind])\n",
    "    X_boot = X_boot.set_index('Date')\n",
    "    return X_boot\n",
    "\n",
    "X_boot = bootstrap_wnv(X)\n",
    "X_boot['WnvPresent'].value_counts()"
   ]
  },
  {
   "cell_type": "markdown",
   "metadata": {},
   "source": [
    "### Prep Train data for model testing"
   ]
  },
  {
   "cell_type": "code",
   "execution_count": 538,
   "metadata": {},
   "outputs": [
    {
     "data": {
      "text/plain": [
       "(19910, 228)"
      ]
     },
     "execution_count": 538,
     "metadata": {},
     "output_type": "execute_result"
    }
   ],
   "source": [
    "def create_train_testing_set(df, manual_species=True):\n",
    "    '''\n",
    "    Creates X with option to run get_dummies() on Species or use manually assigned species columns with mosquito counts\n",
    "    '''\n",
    "    y = df['WnvPresent']\n",
    "    X = df.drop(['NumMosquitos', 'WnvPresent'], axis=1)\n",
    "\n",
    "    if manual_species == True:\n",
    "        X = X.drop(['Species'], axis=1)\n",
    "        X = pd.get_dummies(X, columns=['Trap', 'Block'])\n",
    "    else:\n",
    "        X = pd.get_dummies(X, columns=['Species', 'Trap', 'Block'])\n",
    "    X['Block_26'] = 0\n",
    "    return X, y\n",
    "\n",
    "X, y = create_train_testing_set(X_boot)\n",
    "# X, y = create_train_testing_set(X_boot, False)\n",
    "X['UNSPECIFIED CULEX'] = 0\n",
    "X.shape"
   ]
  },
  {
   "cell_type": "code",
   "execution_count": 539,
   "metadata": {},
   "outputs": [
    {
     "data": {
      "text/html": [
       "<div>\n",
       "<table border=\"1\" class=\"dataframe\">\n",
       "  <thead>\n",
       "    <tr style=\"text-align: right;\">\n",
       "      <th></th>\n",
       "      <th>Tmax</th>\n",
       "      <th>Tmin</th>\n",
       "      <th>Tavg</th>\n",
       "      <th>DewPoint</th>\n",
       "      <th>WetBulb</th>\n",
       "      <th>PrecipTotal</th>\n",
       "      <th>T002A</th>\n",
       "      <th>T002B</th>\n",
       "      <th>T065A</th>\n",
       "      <th>T090A</th>\n",
       "      <th>T090B</th>\n",
       "      <th>T090C</th>\n",
       "      <th>T128A</th>\n",
       "      <th>T200A</th>\n",
       "      <th>T200B</th>\n",
       "      <th>T218A</th>\n",
       "      <th>T218B</th>\n",
       "      <th>T218C</th>\n",
       "      <th>T234</th>\n",
       "      <th>Species_CULEX ERRATICUS</th>\n",
       "      <th>Species_CULEX PIPIENS</th>\n",
       "      <th>Species_CULEX PIPIENS/RESTUANS</th>\n",
       "      <th>Species_CULEX RESTUANS</th>\n",
       "      <th>Species_CULEX SALINARIUS</th>\n",
       "      <th>Species_CULEX TARSALIS</th>\n",
       "      <th>Species_CULEX TERRITANS</th>\n",
       "      <th>UNSPECIFIED CULEX</th>\n",
       "      <th>Trap_T001</th>\n",
       "      <th>Trap_T002</th>\n",
       "      <th>Trap_T003</th>\n",
       "      <th>Trap_T004</th>\n",
       "      <th>Trap_T005</th>\n",
       "      <th>Trap_T006</th>\n",
       "      <th>Trap_T007</th>\n",
       "      <th>Trap_T008</th>\n",
       "      <th>Trap_T009</th>\n",
       "      <th>Trap_T011</th>\n",
       "      <th>Trap_T012</th>\n",
       "      <th>Trap_T013</th>\n",
       "      <th>Trap_T014</th>\n",
       "      <th>Trap_T015</th>\n",
       "      <th>Trap_T016</th>\n",
       "      <th>Trap_T017</th>\n",
       "      <th>Trap_T018</th>\n",
       "      <th>Trap_T019</th>\n",
       "      <th>Trap_T025</th>\n",
       "      <th>Trap_T027</th>\n",
       "      <th>Trap_T028</th>\n",
       "      <th>Trap_T030</th>\n",
       "      <th>Trap_T031</th>\n",
       "      <th>Trap_T033</th>\n",
       "      <th>Trap_T034</th>\n",
       "      <th>Trap_T035</th>\n",
       "      <th>Trap_T036</th>\n",
       "      <th>Trap_T037</th>\n",
       "      <th>Trap_T039</th>\n",
       "      <th>Trap_T040</th>\n",
       "      <th>Trap_T043</th>\n",
       "      <th>Trap_T044</th>\n",
       "      <th>Trap_T045</th>\n",
       "      <th>Trap_T046</th>\n",
       "      <th>Trap_T047</th>\n",
       "      <th>Trap_T048</th>\n",
       "      <th>Trap_T049</th>\n",
       "      <th>Trap_T050</th>\n",
       "      <th>Trap_T051</th>\n",
       "      <th>Trap_T054</th>\n",
       "      <th>Trap_T054C</th>\n",
       "      <th>Trap_T060</th>\n",
       "      <th>Trap_T061</th>\n",
       "      <th>Trap_T062</th>\n",
       "      <th>Trap_T063</th>\n",
       "      <th>Trap_T065</th>\n",
       "      <th>Trap_T066</th>\n",
       "      <th>Trap_T067</th>\n",
       "      <th>Trap_T069</th>\n",
       "      <th>Trap_T070</th>\n",
       "      <th>Trap_T071</th>\n",
       "      <th>Trap_T072</th>\n",
       "      <th>Trap_T073</th>\n",
       "      <th>Trap_T074</th>\n",
       "      <th>Trap_T075</th>\n",
       "      <th>Trap_T076</th>\n",
       "      <th>Trap_T077</th>\n",
       "      <th>Trap_T078</th>\n",
       "      <th>Trap_T079</th>\n",
       "      <th>Trap_T080</th>\n",
       "      <th>Trap_T081</th>\n",
       "      <th>Trap_T082</th>\n",
       "      <th>Trap_T083</th>\n",
       "      <th>Trap_T084</th>\n",
       "      <th>Trap_T085</th>\n",
       "      <th>Trap_T086</th>\n",
       "      <th>Trap_T088</th>\n",
       "      <th>Trap_T089</th>\n",
       "      <th>Trap_T090</th>\n",
       "      <th>Trap_T091</th>\n",
       "      <th>Trap_T092</th>\n",
       "      <th>Trap_T094</th>\n",
       "      <th>Trap_T094B</th>\n",
       "      <th>Trap_T095</th>\n",
       "      <th>Trap_T096</th>\n",
       "      <th>Trap_T097</th>\n",
       "      <th>Trap_T099</th>\n",
       "      <th>Trap_T100</th>\n",
       "      <th>Trap_T102</th>\n",
       "      <th>Trap_T103</th>\n",
       "      <th>Trap_T107</th>\n",
       "      <th>Trap_T114</th>\n",
       "      <th>Trap_T115</th>\n",
       "      <th>Trap_T128</th>\n",
       "      <th>Trap_T129</th>\n",
       "      <th>Trap_T135</th>\n",
       "      <th>Trap_T138</th>\n",
       "      <th>Trap_T141</th>\n",
       "      <th>Trap_T142</th>\n",
       "      <th>Trap_T143</th>\n",
       "      <th>Trap_T144</th>\n",
       "      <th>Trap_T145</th>\n",
       "      <th>Trap_T146</th>\n",
       "      <th>Trap_T147</th>\n",
       "      <th>Trap_T148</th>\n",
       "      <th>Trap_T149</th>\n",
       "      <th>Trap_T150</th>\n",
       "      <th>Trap_T151</th>\n",
       "      <th>Trap_T152</th>\n",
       "      <th>Trap_T153</th>\n",
       "      <th>Trap_T154</th>\n",
       "      <th>Trap_T155</th>\n",
       "      <th>Trap_T156</th>\n",
       "      <th>Trap_T157</th>\n",
       "      <th>Trap_T158</th>\n",
       "      <th>Trap_T159</th>\n",
       "      <th>Trap_T160</th>\n",
       "      <th>Trap_T161</th>\n",
       "      <th>Trap_T162</th>\n",
       "      <th>Trap_T200</th>\n",
       "      <th>Trap_T206</th>\n",
       "      <th>Trap_T209</th>\n",
       "      <th>Trap_T212</th>\n",
       "      <th>Trap_T215</th>\n",
       "      <th>Trap_T218</th>\n",
       "      <th>Trap_T219</th>\n",
       "      <th>Trap_T220</th>\n",
       "      <th>Trap_T221</th>\n",
       "      <th>Trap_T222</th>\n",
       "      <th>Trap_T223</th>\n",
       "      <th>Trap_T224</th>\n",
       "      <th>Trap_T225</th>\n",
       "      <th>Trap_T226</th>\n",
       "      <th>Trap_T227</th>\n",
       "      <th>Trap_T228</th>\n",
       "      <th>Trap_T229</th>\n",
       "      <th>Trap_T230</th>\n",
       "      <th>Trap_T231</th>\n",
       "      <th>Trap_T232</th>\n",
       "      <th>Trap_T233</th>\n",
       "      <th>Trap_T235</th>\n",
       "      <th>Trap_T236</th>\n",
       "      <th>Trap_T237</th>\n",
       "      <th>Trap_T238</th>\n",
       "      <th>Trap_T900</th>\n",
       "      <th>Trap_T903</th>\n",
       "      <th>Block_10</th>\n",
       "      <th>Block_11</th>\n",
       "      <th>Block_12</th>\n",
       "      <th>Block_13</th>\n",
       "      <th>Block_14</th>\n",
       "      <th>Block_15</th>\n",
       "      <th>Block_17</th>\n",
       "      <th>Block_18</th>\n",
       "      <th>Block_20</th>\n",
       "      <th>Block_21</th>\n",
       "      <th>Block_22</th>\n",
       "      <th>Block_24</th>\n",
       "      <th>Block_25</th>\n",
       "      <th>Block_27</th>\n",
       "      <th>Block_28</th>\n",
       "      <th>Block_29</th>\n",
       "      <th>Block_30</th>\n",
       "      <th>Block_33</th>\n",
       "      <th>Block_34</th>\n",
       "      <th>Block_35</th>\n",
       "      <th>Block_36</th>\n",
       "      <th>Block_37</th>\n",
       "      <th>Block_38</th>\n",
       "      <th>Block_39</th>\n",
       "      <th>Block_40</th>\n",
       "      <th>Block_41</th>\n",
       "      <th>Block_42</th>\n",
       "      <th>Block_43</th>\n",
       "      <th>Block_45</th>\n",
       "      <th>Block_46</th>\n",
       "      <th>Block_47</th>\n",
       "      <th>Block_48</th>\n",
       "      <th>Block_49</th>\n",
       "      <th>Block_50</th>\n",
       "      <th>Block_51</th>\n",
       "      <th>Block_52</th>\n",
       "      <th>Block_53</th>\n",
       "      <th>Block_55</th>\n",
       "      <th>Block_58</th>\n",
       "      <th>Block_60</th>\n",
       "      <th>Block_61</th>\n",
       "      <th>Block_62</th>\n",
       "      <th>Block_63</th>\n",
       "      <th>Block_64</th>\n",
       "      <th>Block_65</th>\n",
       "      <th>Block_66</th>\n",
       "      <th>Block_67</th>\n",
       "      <th>Block_68</th>\n",
       "      <th>Block_70</th>\n",
       "      <th>Block_71</th>\n",
       "      <th>Block_72</th>\n",
       "      <th>Block_73</th>\n",
       "      <th>Block_75</th>\n",
       "      <th>Block_77</th>\n",
       "      <th>Block_79</th>\n",
       "      <th>Block_80</th>\n",
       "      <th>Block_81</th>\n",
       "      <th>Block_82</th>\n",
       "      <th>Block_89</th>\n",
       "      <th>Block_90</th>\n",
       "      <th>Block_91</th>\n",
       "      <th>Block_93</th>\n",
       "      <th>Block_96</th>\n",
       "      <th>Block_98</th>\n",
       "      <th>Block_26</th>\n",
       "    </tr>\n",
       "    <tr>\n",
       "      <th>Date</th>\n",
       "      <th></th>\n",
       "      <th></th>\n",
       "      <th></th>\n",
       "      <th></th>\n",
       "      <th></th>\n",
       "      <th></th>\n",
       "      <th></th>\n",
       "      <th></th>\n",
       "      <th></th>\n",
       "      <th></th>\n",
       "      <th></th>\n",
       "      <th></th>\n",
       "      <th></th>\n",
       "      <th></th>\n",
       "      <th></th>\n",
       "      <th></th>\n",
       "      <th></th>\n",
       "      <th></th>\n",
       "      <th></th>\n",
       "      <th></th>\n",
       "      <th></th>\n",
       "      <th></th>\n",
       "      <th></th>\n",
       "      <th></th>\n",
       "      <th></th>\n",
       "      <th></th>\n",
       "      <th></th>\n",
       "      <th></th>\n",
       "      <th></th>\n",
       "      <th></th>\n",
       "      <th></th>\n",
       "      <th></th>\n",
       "      <th></th>\n",
       "      <th></th>\n",
       "      <th></th>\n",
       "      <th></th>\n",
       "      <th></th>\n",
       "      <th></th>\n",
       "      <th></th>\n",
       "      <th></th>\n",
       "      <th></th>\n",
       "      <th></th>\n",
       "      <th></th>\n",
       "      <th></th>\n",
       "      <th></th>\n",
       "      <th></th>\n",
       "      <th></th>\n",
       "      <th></th>\n",
       "      <th></th>\n",
       "      <th></th>\n",
       "      <th></th>\n",
       "      <th></th>\n",
       "      <th></th>\n",
       "      <th></th>\n",
       "      <th></th>\n",
       "      <th></th>\n",
       "      <th></th>\n",
       "      <th></th>\n",
       "      <th></th>\n",
       "      <th></th>\n",
       "      <th></th>\n",
       "      <th></th>\n",
       "      <th></th>\n",
       "      <th></th>\n",
       "      <th></th>\n",
       "      <th></th>\n",
       "      <th></th>\n",
       "      <th></th>\n",
       "      <th></th>\n",
       "      <th></th>\n",
       "      <th></th>\n",
       "      <th></th>\n",
       "      <th></th>\n",
       "      <th></th>\n",
       "      <th></th>\n",
       "      <th></th>\n",
       "      <th></th>\n",
       "      <th></th>\n",
       "      <th></th>\n",
       "      <th></th>\n",
       "      <th></th>\n",
       "      <th></th>\n",
       "      <th></th>\n",
       "      <th></th>\n",
       "      <th></th>\n",
       "      <th></th>\n",
       "      <th></th>\n",
       "      <th></th>\n",
       "      <th></th>\n",
       "      <th></th>\n",
       "      <th></th>\n",
       "      <th></th>\n",
       "      <th></th>\n",
       "      <th></th>\n",
       "      <th></th>\n",
       "      <th></th>\n",
       "      <th></th>\n",
       "      <th></th>\n",
       "      <th></th>\n",
       "      <th></th>\n",
       "      <th></th>\n",
       "      <th></th>\n",
       "      <th></th>\n",
       "      <th></th>\n",
       "      <th></th>\n",
       "      <th></th>\n",
       "      <th></th>\n",
       "      <th></th>\n",
       "      <th></th>\n",
       "      <th></th>\n",
       "      <th></th>\n",
       "      <th></th>\n",
       "      <th></th>\n",
       "      <th></th>\n",
       "      <th></th>\n",
       "      <th></th>\n",
       "      <th></th>\n",
       "      <th></th>\n",
       "      <th></th>\n",
       "      <th></th>\n",
       "      <th></th>\n",
       "      <th></th>\n",
       "      <th></th>\n",
       "      <th></th>\n",
       "      <th></th>\n",
       "      <th></th>\n",
       "      <th></th>\n",
       "      <th></th>\n",
       "      <th></th>\n",
       "      <th></th>\n",
       "      <th></th>\n",
       "      <th></th>\n",
       "      <th></th>\n",
       "      <th></th>\n",
       "      <th></th>\n",
       "      <th></th>\n",
       "      <th></th>\n",
       "      <th></th>\n",
       "      <th></th>\n",
       "      <th></th>\n",
       "      <th></th>\n",
       "      <th></th>\n",
       "      <th></th>\n",
       "      <th></th>\n",
       "      <th></th>\n",
       "      <th></th>\n",
       "      <th></th>\n",
       "      <th></th>\n",
       "      <th></th>\n",
       "      <th></th>\n",
       "      <th></th>\n",
       "      <th></th>\n",
       "      <th></th>\n",
       "      <th></th>\n",
       "      <th></th>\n",
       "      <th></th>\n",
       "      <th></th>\n",
       "      <th></th>\n",
       "      <th></th>\n",
       "      <th></th>\n",
       "      <th></th>\n",
       "      <th></th>\n",
       "      <th></th>\n",
       "      <th></th>\n",
       "      <th></th>\n",
       "      <th></th>\n",
       "      <th></th>\n",
       "      <th></th>\n",
       "      <th></th>\n",
       "      <th></th>\n",
       "      <th></th>\n",
       "      <th></th>\n",
       "      <th></th>\n",
       "      <th></th>\n",
       "      <th></th>\n",
       "      <th></th>\n",
       "      <th></th>\n",
       "      <th></th>\n",
       "      <th></th>\n",
       "      <th></th>\n",
       "      <th></th>\n",
       "      <th></th>\n",
       "      <th></th>\n",
       "      <th></th>\n",
       "      <th></th>\n",
       "      <th></th>\n",
       "      <th></th>\n",
       "      <th></th>\n",
       "      <th></th>\n",
       "      <th></th>\n",
       "      <th></th>\n",
       "      <th></th>\n",
       "      <th></th>\n",
       "      <th></th>\n",
       "      <th></th>\n",
       "      <th></th>\n",
       "      <th></th>\n",
       "      <th></th>\n",
       "      <th></th>\n",
       "      <th></th>\n",
       "      <th></th>\n",
       "      <th></th>\n",
       "      <th></th>\n",
       "      <th></th>\n",
       "      <th></th>\n",
       "      <th></th>\n",
       "      <th></th>\n",
       "      <th></th>\n",
       "      <th></th>\n",
       "      <th></th>\n",
       "      <th></th>\n",
       "      <th></th>\n",
       "      <th></th>\n",
       "      <th></th>\n",
       "      <th></th>\n",
       "      <th></th>\n",
       "      <th></th>\n",
       "      <th></th>\n",
       "      <th></th>\n",
       "      <th></th>\n",
       "      <th></th>\n",
       "      <th></th>\n",
       "      <th></th>\n",
       "      <th></th>\n",
       "      <th></th>\n",
       "      <th></th>\n",
       "      <th></th>\n",
       "      <th></th>\n",
       "    </tr>\n",
       "  </thead>\n",
       "  <tbody>\n",
       "    <tr>\n",
       "      <th>2007-05-29</th>\n",
       "      <td>88</td>\n",
       "      <td>60</td>\n",
       "      <td>74</td>\n",
       "      <td>58</td>\n",
       "      <td>65</td>\n",
       "      <td>0.0</td>\n",
       "      <td>0</td>\n",
       "      <td>0</td>\n",
       "      <td>0</td>\n",
       "      <td>0</td>\n",
       "      <td>0</td>\n",
       "      <td>0</td>\n",
       "      <td>0</td>\n",
       "      <td>0</td>\n",
       "      <td>0</td>\n",
       "      <td>0</td>\n",
       "      <td>0</td>\n",
       "      <td>0</td>\n",
       "      <td>0</td>\n",
       "      <td>0</td>\n",
       "      <td>0</td>\n",
       "      <td>1</td>\n",
       "      <td>0</td>\n",
       "      <td>0</td>\n",
       "      <td>0</td>\n",
       "      <td>0</td>\n",
       "      <td>0</td>\n",
       "      <td>0</td>\n",
       "      <td>1</td>\n",
       "      <td>0</td>\n",
       "      <td>0</td>\n",
       "      <td>0</td>\n",
       "      <td>0</td>\n",
       "      <td>0</td>\n",
       "      <td>0</td>\n",
       "      <td>0</td>\n",
       "      <td>0</td>\n",
       "      <td>0</td>\n",
       "      <td>0</td>\n",
       "      <td>0</td>\n",
       "      <td>0</td>\n",
       "      <td>0</td>\n",
       "      <td>0</td>\n",
       "      <td>0</td>\n",
       "      <td>0</td>\n",
       "      <td>0</td>\n",
       "      <td>0</td>\n",
       "      <td>0</td>\n",
       "      <td>0</td>\n",
       "      <td>0</td>\n",
       "      <td>0</td>\n",
       "      <td>0</td>\n",
       "      <td>0</td>\n",
       "      <td>0</td>\n",
       "      <td>0</td>\n",
       "      <td>0</td>\n",
       "      <td>0</td>\n",
       "      <td>0</td>\n",
       "      <td>0</td>\n",
       "      <td>0</td>\n",
       "      <td>0</td>\n",
       "      <td>0</td>\n",
       "      <td>0</td>\n",
       "      <td>0</td>\n",
       "      <td>0</td>\n",
       "      <td>0</td>\n",
       "      <td>0</td>\n",
       "      <td>0</td>\n",
       "      <td>0</td>\n",
       "      <td>0</td>\n",
       "      <td>0</td>\n",
       "      <td>0</td>\n",
       "      <td>0</td>\n",
       "      <td>0</td>\n",
       "      <td>0</td>\n",
       "      <td>0</td>\n",
       "      <td>0</td>\n",
       "      <td>0</td>\n",
       "      <td>0</td>\n",
       "      <td>0</td>\n",
       "      <td>0</td>\n",
       "      <td>0</td>\n",
       "      <td>0</td>\n",
       "      <td>0</td>\n",
       "      <td>0</td>\n",
       "      <td>0</td>\n",
       "      <td>0</td>\n",
       "      <td>0</td>\n",
       "      <td>0</td>\n",
       "      <td>0</td>\n",
       "      <td>0</td>\n",
       "      <td>0</td>\n",
       "      <td>0</td>\n",
       "      <td>0</td>\n",
       "      <td>0</td>\n",
       "      <td>0</td>\n",
       "      <td>0</td>\n",
       "      <td>0</td>\n",
       "      <td>0</td>\n",
       "      <td>0</td>\n",
       "      <td>0</td>\n",
       "      <td>0</td>\n",
       "      <td>0</td>\n",
       "      <td>0</td>\n",
       "      <td>0</td>\n",
       "      <td>0</td>\n",
       "      <td>0</td>\n",
       "      <td>0</td>\n",
       "      <td>0</td>\n",
       "      <td>0</td>\n",
       "      <td>0</td>\n",
       "      <td>0</td>\n",
       "      <td>0</td>\n",
       "      <td>0</td>\n",
       "      <td>0</td>\n",
       "      <td>0</td>\n",
       "      <td>0</td>\n",
       "      <td>0</td>\n",
       "      <td>0</td>\n",
       "      <td>0</td>\n",
       "      <td>0</td>\n",
       "      <td>0</td>\n",
       "      <td>0</td>\n",
       "      <td>0</td>\n",
       "      <td>0</td>\n",
       "      <td>0</td>\n",
       "      <td>0</td>\n",
       "      <td>0</td>\n",
       "      <td>0</td>\n",
       "      <td>0</td>\n",
       "      <td>0</td>\n",
       "      <td>0</td>\n",
       "      <td>0</td>\n",
       "      <td>0</td>\n",
       "      <td>0</td>\n",
       "      <td>0</td>\n",
       "      <td>0</td>\n",
       "      <td>0</td>\n",
       "      <td>0</td>\n",
       "      <td>0</td>\n",
       "      <td>0</td>\n",
       "      <td>0</td>\n",
       "      <td>0</td>\n",
       "      <td>0</td>\n",
       "      <td>0</td>\n",
       "      <td>0</td>\n",
       "      <td>0</td>\n",
       "      <td>0</td>\n",
       "      <td>0</td>\n",
       "      <td>0</td>\n",
       "      <td>0</td>\n",
       "      <td>0</td>\n",
       "      <td>0</td>\n",
       "      <td>0</td>\n",
       "      <td>0</td>\n",
       "      <td>0</td>\n",
       "      <td>0</td>\n",
       "      <td>0</td>\n",
       "      <td>0</td>\n",
       "      <td>0</td>\n",
       "      <td>0</td>\n",
       "      <td>0</td>\n",
       "      <td>0</td>\n",
       "      <td>0</td>\n",
       "      <td>0</td>\n",
       "      <td>0</td>\n",
       "      <td>0</td>\n",
       "      <td>0</td>\n",
       "      <td>0</td>\n",
       "      <td>0</td>\n",
       "      <td>0</td>\n",
       "      <td>0</td>\n",
       "      <td>0</td>\n",
       "      <td>0</td>\n",
       "      <td>0</td>\n",
       "      <td>0</td>\n",
       "      <td>0</td>\n",
       "      <td>0</td>\n",
       "      <td>0</td>\n",
       "      <td>0</td>\n",
       "      <td>0</td>\n",
       "      <td>0</td>\n",
       "      <td>0</td>\n",
       "      <td>0</td>\n",
       "      <td>0</td>\n",
       "      <td>0</td>\n",
       "      <td>0</td>\n",
       "      <td>0</td>\n",
       "      <td>1</td>\n",
       "      <td>0</td>\n",
       "      <td>0</td>\n",
       "      <td>0</td>\n",
       "      <td>0</td>\n",
       "      <td>0</td>\n",
       "      <td>0</td>\n",
       "      <td>0</td>\n",
       "      <td>0</td>\n",
       "      <td>0</td>\n",
       "      <td>0</td>\n",
       "      <td>0</td>\n",
       "      <td>0</td>\n",
       "      <td>0</td>\n",
       "      <td>0</td>\n",
       "      <td>0</td>\n",
       "      <td>0</td>\n",
       "      <td>0</td>\n",
       "      <td>0</td>\n",
       "      <td>0</td>\n",
       "      <td>0</td>\n",
       "      <td>0</td>\n",
       "      <td>0</td>\n",
       "      <td>0</td>\n",
       "      <td>0</td>\n",
       "      <td>0</td>\n",
       "      <td>0</td>\n",
       "      <td>0</td>\n",
       "      <td>0</td>\n",
       "      <td>0</td>\n",
       "      <td>0</td>\n",
       "      <td>0</td>\n",
       "      <td>0</td>\n",
       "      <td>0</td>\n",
       "      <td>0</td>\n",
       "      <td>0</td>\n",
       "      <td>0</td>\n",
       "      <td>0</td>\n",
       "      <td>0</td>\n",
       "      <td>0</td>\n",
       "    </tr>\n",
       "  </tbody>\n",
       "</table>\n",
       "</div>"
      ],
      "text/plain": [
       "            Tmax  Tmin  Tavg  DewPoint  WetBulb  PrecipTotal  T002A  T002B  \\\n",
       "Date                                                                         \n",
       "2007-05-29    88    60    74        58       65          0.0      0      0   \n",
       "\n",
       "            T065A  T090A  T090B  T090C  T128A  T200A  T200B  T218A  T218B  \\\n",
       "Date                                                                        \n",
       "2007-05-29      0      0      0      0      0      0      0      0      0   \n",
       "\n",
       "            T218C  T234  Species_CULEX ERRATICUS  Species_CULEX PIPIENS  \\\n",
       "Date                                                                      \n",
       "2007-05-29      0     0                        0                      0   \n",
       "\n",
       "            Species_CULEX PIPIENS/RESTUANS  Species_CULEX RESTUANS  \\\n",
       "Date                                                                 \n",
       "2007-05-29                               1                       0   \n",
       "\n",
       "            Species_CULEX SALINARIUS  Species_CULEX TARSALIS  \\\n",
       "Date                                                           \n",
       "2007-05-29                         0                       0   \n",
       "\n",
       "            Species_CULEX TERRITANS  UNSPECIFIED CULEX  Trap_T001  Trap_T002  \\\n",
       "Date                                                                           \n",
       "2007-05-29                        0                  0          0          1   \n",
       "\n",
       "            Trap_T003  Trap_T004  Trap_T005  Trap_T006  Trap_T007  Trap_T008  \\\n",
       "Date                                                                           \n",
       "2007-05-29          0          0          0          0          0          0   \n",
       "\n",
       "            Trap_T009  Trap_T011  Trap_T012  Trap_T013  Trap_T014  Trap_T015  \\\n",
       "Date                                                                           \n",
       "2007-05-29          0          0          0          0          0          0   \n",
       "\n",
       "            Trap_T016  Trap_T017  Trap_T018  Trap_T019  Trap_T025  Trap_T027  \\\n",
       "Date                                                                           \n",
       "2007-05-29          0          0          0          0          0          0   \n",
       "\n",
       "            Trap_T028  Trap_T030  Trap_T031  Trap_T033  Trap_T034  Trap_T035  \\\n",
       "Date                                                                           \n",
       "2007-05-29          0          0          0          0          0          0   \n",
       "\n",
       "            Trap_T036  Trap_T037  Trap_T039  Trap_T040  Trap_T043  Trap_T044  \\\n",
       "Date                                                                           \n",
       "2007-05-29          0          0          0          0          0          0   \n",
       "\n",
       "            Trap_T045  Trap_T046  Trap_T047  Trap_T048  Trap_T049  Trap_T050  \\\n",
       "Date                                                                           \n",
       "2007-05-29          0          0          0          0          0          0   \n",
       "\n",
       "            Trap_T051  Trap_T054  Trap_T054C  Trap_T060  Trap_T061  Trap_T062  \\\n",
       "Date                                                                            \n",
       "2007-05-29          0          0           0          0          0          0   \n",
       "\n",
       "            Trap_T063  Trap_T065  Trap_T066  Trap_T067  Trap_T069  Trap_T070  \\\n",
       "Date                                                                           \n",
       "2007-05-29          0          0          0          0          0          0   \n",
       "\n",
       "            Trap_T071  Trap_T072  Trap_T073  Trap_T074  Trap_T075  Trap_T076  \\\n",
       "Date                                                                           \n",
       "2007-05-29          0          0          0          0          0          0   \n",
       "\n",
       "            Trap_T077  Trap_T078  Trap_T079  Trap_T080  Trap_T081  Trap_T082  \\\n",
       "Date                                                                           \n",
       "2007-05-29          0          0          0          0          0          0   \n",
       "\n",
       "            Trap_T083  Trap_T084  Trap_T085  Trap_T086  Trap_T088  Trap_T089  \\\n",
       "Date                                                                           \n",
       "2007-05-29          0          0          0          0          0          0   \n",
       "\n",
       "            Trap_T090  Trap_T091  Trap_T092  Trap_T094  Trap_T094B  Trap_T095  \\\n",
       "Date                                                                            \n",
       "2007-05-29          0          0          0          0           0          0   \n",
       "\n",
       "            Trap_T096  Trap_T097  Trap_T099  Trap_T100  Trap_T102  Trap_T103  \\\n",
       "Date                                                                           \n",
       "2007-05-29          0          0          0          0          0          0   \n",
       "\n",
       "            Trap_T107  Trap_T114  Trap_T115  Trap_T128  Trap_T129  Trap_T135  \\\n",
       "Date                                                                           \n",
       "2007-05-29          0          0          0          0          0          0   \n",
       "\n",
       "            Trap_T138  Trap_T141  Trap_T142  Trap_T143  Trap_T144  Trap_T145  \\\n",
       "Date                                                                           \n",
       "2007-05-29          0          0          0          0          0          0   \n",
       "\n",
       "            Trap_T146  Trap_T147  Trap_T148  Trap_T149  Trap_T150  Trap_T151  \\\n",
       "Date                                                                           \n",
       "2007-05-29          0          0          0          0          0          0   \n",
       "\n",
       "            Trap_T152  Trap_T153  Trap_T154  Trap_T155  Trap_T156  Trap_T157  \\\n",
       "Date                                                                           \n",
       "2007-05-29          0          0          0          0          0          0   \n",
       "\n",
       "            Trap_T158  Trap_T159  Trap_T160  Trap_T161  Trap_T162  Trap_T200  \\\n",
       "Date                                                                           \n",
       "2007-05-29          0          0          0          0          0          0   \n",
       "\n",
       "            Trap_T206  Trap_T209  Trap_T212  Trap_T215  Trap_T218  Trap_T219  \\\n",
       "Date                                                                           \n",
       "2007-05-29          0          0          0          0          0          0   \n",
       "\n",
       "            Trap_T220  Trap_T221  Trap_T222  Trap_T223  Trap_T224  Trap_T225  \\\n",
       "Date                                                                           \n",
       "2007-05-29          0          0          0          0          0          0   \n",
       "\n",
       "            Trap_T226  Trap_T227  Trap_T228  Trap_T229  Trap_T230  Trap_T231  \\\n",
       "Date                                                                           \n",
       "2007-05-29          0          0          0          0          0          0   \n",
       "\n",
       "            Trap_T232  Trap_T233  Trap_T235  Trap_T236  Trap_T237  Trap_T238  \\\n",
       "Date                                                                           \n",
       "2007-05-29          0          0          0          0          0          0   \n",
       "\n",
       "            Trap_T900  Trap_T903  Block_10  Block_11  Block_12  Block_13  \\\n",
       "Date                                                                       \n",
       "2007-05-29          0          0         0         0         0         0   \n",
       "\n",
       "            Block_14  Block_15  Block_17  Block_18  Block_20  Block_21  \\\n",
       "Date                                                                     \n",
       "2007-05-29         0         0         0         0         0         0   \n",
       "\n",
       "            Block_22  Block_24  Block_25  Block_27  Block_28  Block_29  \\\n",
       "Date                                                                     \n",
       "2007-05-29         0         0         0         0         0         0   \n",
       "\n",
       "            Block_30  Block_33  Block_34  Block_35  Block_36  Block_37  \\\n",
       "Date                                                                     \n",
       "2007-05-29         0         0         0         0         0         0   \n",
       "\n",
       "            Block_38  Block_39  Block_40  Block_41  Block_42  Block_43  \\\n",
       "Date                                                                     \n",
       "2007-05-29         0         0         0         1         0         0   \n",
       "\n",
       "            Block_45  Block_46  Block_47  Block_48  Block_49  Block_50  \\\n",
       "Date                                                                     \n",
       "2007-05-29         0         0         0         0         0         0   \n",
       "\n",
       "            Block_51  Block_52  Block_53  Block_55  Block_58  Block_60  \\\n",
       "Date                                                                     \n",
       "2007-05-29         0         0         0         0         0         0   \n",
       "\n",
       "            Block_61  Block_62  Block_63  Block_64  Block_65  Block_66  \\\n",
       "Date                                                                     \n",
       "2007-05-29         0         0         0         0         0         0   \n",
       "\n",
       "            Block_67  Block_68  Block_70  Block_71  Block_72  Block_73  \\\n",
       "Date                                                                     \n",
       "2007-05-29         0         0         0         0         0         0   \n",
       "\n",
       "            Block_75  Block_77  Block_79  Block_80  Block_81  Block_82  \\\n",
       "Date                                                                     \n",
       "2007-05-29         0         0         0         0         0         0   \n",
       "\n",
       "            Block_89  Block_90  Block_91  Block_93  Block_96  Block_98  \\\n",
       "Date                                                                     \n",
       "2007-05-29         0         0         0         0         0         0   \n",
       "\n",
       "            Block_26  \n",
       "Date                  \n",
       "2007-05-29         0  "
      ]
     },
     "execution_count": 539,
     "metadata": {},
     "output_type": "execute_result"
    }
   ],
   "source": [
    "### making sure NumMosquitos and WnvPresent are dropped\n",
    "X.head(1)"
   ]
  },
  {
   "cell_type": "markdown",
   "metadata": {},
   "source": [
    "### Prep Test data for model testing"
   ]
  },
  {
   "cell_type": "code",
   "execution_count": 540,
   "metadata": {},
   "outputs": [
    {
     "data": {
      "text/plain": [
       "(116293, 228)"
      ]
     },
     "execution_count": 540,
     "metadata": {},
     "output_type": "execute_result"
    }
   ],
   "source": [
    "def create_test_testing_set(df):\n",
    "    # X_test = test_weather.copy()\n",
    "    X_test = df.copy()\n",
    "    X_test_ids = pd.DataFrame(X_test['Id'])\n",
    "    X_test_ids = X_test_ids.reset_index()\n",
    "    X_test_ids = X_test_ids.drop(['Date'], axis=1)\n",
    "\n",
    "    X_test = X_test.drop(['Id', 'Address', 'Street', 'AddressNumberAndStreet', 'Latitude', 'Longitude', 'AddressAccuracy'], axis=1)\n",
    "    X_test = pd.get_dummies(X_test, columns=['Trap', 'Species', 'Block'])\n",
    "    return X_test, X_test_ids\n",
    "\n",
    "X_test, X_test_ids = create_test_testing_set(test_weather)\n",
    "X_test.shape"
   ]
  },
  {
   "cell_type": "code",
   "execution_count": 541,
   "metadata": {},
   "outputs": [],
   "source": [
    "# X_test.head()"
   ]
  },
  {
   "cell_type": "markdown",
   "metadata": {},
   "source": [
    "### Create train-validation split since our test data does not contain number of mosquitos"
   ]
  },
  {
   "cell_type": "code",
   "execution_count": 542,
   "metadata": {},
   "outputs": [],
   "source": [
    "X_train, X_val, y_train, y_val = train_test_split(X, y, test_size=.3, random_state=314)"
   ]
  },
  {
   "cell_type": "markdown",
   "metadata": {},
   "source": [
    "### Create Logistic Regression model"
   ]
  },
  {
   "cell_type": "code",
   "execution_count": 543,
   "metadata": {},
   "outputs": [
    {
     "data": {
      "text/plain": [
       "0.75575805410059549"
      ]
     },
     "execution_count": 543,
     "metadata": {},
     "output_type": "execute_result"
    }
   ],
   "source": [
    "log_reg = LogisticRegression(C=7)\n",
    "log_reg.fit(X_train, y_train)\n",
    "log_reg.score(X_train, y_train)"
   ]
  },
  {
   "cell_type": "code",
   "execution_count": 544,
   "metadata": {},
   "outputs": [
    {
     "data": {
      "text/plain": [
       "(array([ 0.74284279,  0.74886991,  0.75690608]), 0.74953959484346233)"
      ]
     },
     "execution_count": 544,
     "metadata": {},
     "output_type": "execute_result"
    }
   ],
   "source": [
    "cross_val_score(log_reg, X_val, y_val), cross_val_score(log_reg, X_val, y_val).mean()"
   ]
  },
  {
   "cell_type": "code",
   "execution_count": 545,
   "metadata": {},
   "outputs": [
    {
     "data": {
      "text/plain": [
       "0    95747\n",
       "1    20546\n",
       "Name: WnvPresent, dtype: int64"
      ]
     },
     "execution_count": 545,
     "metadata": {},
     "output_type": "execute_result"
    }
   ],
   "source": [
    "preds = log_reg.predict(X_test)\n",
    "preds_df = pd.DataFrame(preds, columns=['WnvPresent'])\n",
    "preds_df['WnvPresent'].value_counts()"
   ]
  },
  {
   "cell_type": "code",
   "execution_count": 546,
   "metadata": {},
   "outputs": [],
   "source": [
    "log_reg_sub = pd.concat([X_test_ids, preds_df], ignore_index=True, axis=1)\n",
    "log_reg_sub = log_reg_sub.rename(columns={0: \"Id\", 1: \"WnvPresent\"})\n",
    "log_reg_sub.to_csv('log_reg2_submission.csv', index=False)"
   ]
  },
  {
   "cell_type": "markdown",
   "metadata": {},
   "source": [
    "### Create RandomForestClassifier model"
   ]
  },
  {
   "cell_type": "code",
   "execution_count": 547,
   "metadata": {},
   "outputs": [
    {
     "data": {
      "text/plain": [
       "0.98191863385233547"
      ]
     },
     "execution_count": 547,
     "metadata": {},
     "output_type": "execute_result"
    }
   ],
   "source": [
    "rf_clf = RandomForestClassifier(n_estimators=150, max_features='auto', max_depth=40)\n",
    "rf_clf.fit(X_train, y_train)\n",
    "rf_clf.score(X_train, y_train)"
   ]
  },
  {
   "cell_type": "code",
   "execution_count": 548,
   "metadata": {},
   "outputs": [
    {
     "data": {
      "text/plain": [
       "(array([ 0.92566549,  0.94023104,  0.93420392]), 0.93152519671856693)"
      ]
     },
     "execution_count": 548,
     "metadata": {},
     "output_type": "execute_result"
    }
   ],
   "source": [
    "cross_val_score(rf_clf, X_val, y_val), cross_val_score(rf_clf, X_val, y_val).mean()"
   ]
  },
  {
   "cell_type": "markdown",
   "metadata": {},
   "source": [
    "### Generate predictions"
   ]
  },
  {
   "cell_type": "code",
   "execution_count": 549,
   "metadata": {},
   "outputs": [
    {
     "data": {
      "text/plain": [
       "0    116293\n",
       "Name: WnvPresent, dtype: int64"
      ]
     },
     "execution_count": 549,
     "metadata": {},
     "output_type": "execute_result"
    }
   ],
   "source": [
    "preds = rf_clf.predict(X_test)\n",
    "preds_df = pd.DataFrame(preds, columns=['WnvPresent'])\n",
    "preds_df['WnvPresent'].value_counts()"
   ]
  },
  {
   "cell_type": "markdown",
   "metadata": {},
   "source": [
    "### Concat ids and predictions, name the columns, and export to .csv file"
   ]
  },
  {
   "cell_type": "code",
   "execution_count": 567,
   "metadata": {},
   "outputs": [],
   "source": [
    "rf_sub = pd.concat([X_test_ids, preds_df], ignore_index=True, axis=1)\n",
    "rf_sub = rf_sub.rename(columns={0: \"Id\", 1: \"WnvPresent\"})\n",
    "rf_sub.to_csv('rf2_submission.csv', index=False)"
   ]
  },
  {
   "cell_type": "markdown",
   "metadata": {},
   "source": [
    "### Trying ExtraTreesClassifier"
   ]
  },
  {
   "cell_type": "code",
   "execution_count": 551,
   "metadata": {},
   "outputs": [
    {
     "data": {
      "text/plain": [
       "0.93391691181746428"
      ]
     },
     "execution_count": 551,
     "metadata": {},
     "output_type": "execute_result"
    }
   ],
   "source": [
    "et_clf = ExtraTreesClassifier(max_depth=100, min_samples_leaf=3, min_samples_split=3)\n",
    "et_clf.fit(X_train, y_train)\n",
    "et_clf.score(X_train, y_train)"
   ]
  },
  {
   "cell_type": "code",
   "execution_count": 552,
   "metadata": {},
   "outputs": [
    {
     "data": {
      "text/plain": [
       "(array([ 0.85585133,  0.85836263,  0.85082873]), 0.85367487024945587)"
      ]
     },
     "execution_count": 552,
     "metadata": {},
     "output_type": "execute_result"
    }
   ],
   "source": [
    "cross_val_score(et_clf, X_val, y_val), cross_val_score(et_clf, X_val, y_val).mean()"
   ]
  },
  {
   "cell_type": "code",
   "execution_count": 553,
   "metadata": {},
   "outputs": [
    {
     "data": {
      "text/plain": [
       "0    113793\n",
       "1      2500\n",
       "Name: WnvPresent, dtype: int64"
      ]
     },
     "execution_count": 553,
     "metadata": {},
     "output_type": "execute_result"
    }
   ],
   "source": [
    "preds = et_clf.predict(X_test)\n",
    "preds_df = pd.DataFrame(preds, columns=['WnvPresent'])\n",
    "preds_df['WnvPresent'].value_counts()"
   ]
  },
  {
   "cell_type": "code",
   "execution_count": 554,
   "metadata": {},
   "outputs": [],
   "source": [
    "et_sub = pd.concat([X_test_ids, preds_df], ignore_index=True, axis=1)\n",
    "et_sub = et_sub.rename(columns={0: \"Id\", 1: \"WnvPresent\"})\n",
    "et_sub.to_csv('et2_submission.csv', index=False)"
   ]
  },
  {
   "cell_type": "markdown",
   "metadata": {},
   "source": [
    "### Trying AdaBoostClassifier with ExtraTrees"
   ]
  },
  {
   "cell_type": "code",
   "execution_count": 555,
   "metadata": {},
   "outputs": [
    {
     "data": {
      "text/plain": [
       "0.98299490564683933"
      ]
     },
     "execution_count": 555,
     "metadata": {},
     "output_type": "execute_result"
    }
   ],
   "source": [
    "ada_clf = AdaBoostClassifier(base_estimator=et_clf)\n",
    "ada_clf.fit(X_train, y_train)\n",
    "ada_clf.score(X_train, y_train)"
   ]
  },
  {
   "cell_type": "code",
   "execution_count": 556,
   "metadata": {},
   "outputs": [
    {
     "data": {
      "text/plain": [
       "(array([ 0.93721748,  0.93771974,  0.94224008]), 0.94023103967855359)"
      ]
     },
     "execution_count": 556,
     "metadata": {},
     "output_type": "execute_result"
    }
   ],
   "source": [
    "cross_val_score(ada_clf, X_val, y_val), cross_val_score(ada_clf, X_val, y_val).mean()"
   ]
  },
  {
   "cell_type": "code",
   "execution_count": 557,
   "metadata": {},
   "outputs": [
    {
     "data": {
      "text/plain": [
       "0    116293\n",
       "Name: WnvPresent, dtype: int64"
      ]
     },
     "execution_count": 557,
     "metadata": {},
     "output_type": "execute_result"
    }
   ],
   "source": [
    "preds = ada_clf.predict(X_test)\n",
    "preds_df = pd.DataFrame(preds, columns=['WnvPresent'])\n",
    "preds_df['WnvPresent'].value_counts()"
   ]
  },
  {
   "cell_type": "code",
   "execution_count": 558,
   "metadata": {},
   "outputs": [],
   "source": [
    "ada_sub = pd.concat([X_test_ids, preds_df], ignore_index=True, axis=1)\n",
    "ada_sub = ada_sub.rename(columns={0: \"Id\", 1: \"WnvPresent\"})\n",
    "ada_sub.to_csv('ada_et2_submission.csv', index=False)"
   ]
  },
  {
   "cell_type": "markdown",
   "metadata": {},
   "source": [
    "### Trying AdaBoostClassifier with RandomForest"
   ]
  },
  {
   "cell_type": "code",
   "execution_count": 559,
   "metadata": {},
   "outputs": [
    {
     "data": {
      "text/plain": [
       "0.90191576379421678"
      ]
     },
     "execution_count": 559,
     "metadata": {},
     "output_type": "execute_result"
    }
   ],
   "source": [
    "ada_clf = AdaBoostClassifier(base_estimator=rf)\n",
    "ada_clf.fit(X_train, y_train)\n",
    "ada_clf.score(X_train, y_train)"
   ]
  },
  {
   "cell_type": "code",
   "execution_count": 560,
   "metadata": {},
   "outputs": [
    {
     "data": {
      "text/plain": [
       "(array([ 0.87242592,  0.88749372,  0.87995982]), 0.87895529884480161)"
      ]
     },
     "execution_count": 560,
     "metadata": {},
     "output_type": "execute_result"
    }
   ],
   "source": [
    "cross_val_score(ada_clf, X_val, y_val), cross_val_score(ada_clf, X_val, y_val).mean()"
   ]
  },
  {
   "cell_type": "code",
   "execution_count": 561,
   "metadata": {},
   "outputs": [
    {
     "data": {
      "text/plain": [
       "0    114630\n",
       "1      1663\n",
       "Name: WnvPresent, dtype: int64"
      ]
     },
     "execution_count": 561,
     "metadata": {},
     "output_type": "execute_result"
    }
   ],
   "source": [
    "preds = ada_clf.predict(X_test)\n",
    "preds_df = pd.DataFrame(preds, columns=['WnvPresent'])\n",
    "preds_df['WnvPresent'].value_counts()"
   ]
  },
  {
   "cell_type": "code",
   "execution_count": 562,
   "metadata": {},
   "outputs": [],
   "source": [
    "ada_sub = pd.concat([X_test_ids, preds_df], ignore_index=True, axis=1)\n",
    "ada_sub = ada_sub.rename(columns={0: \"Id\", 1: \"WnvPresent\"})\n",
    "ada_sub.to_csv('ada_rf2_submission.csv', index=False)"
   ]
  },
  {
   "cell_type": "markdown",
   "metadata": {},
   "source": [
    "### Trying SVC using best params from pipeline"
   ]
  },
  {
   "cell_type": "code",
   "execution_count": 563,
   "metadata": {},
   "outputs": [
    {
     "data": {
      "text/plain": [
       "0.95422257300710345"
      ]
     },
     "execution_count": 563,
     "metadata": {},
     "output_type": "execute_result"
    }
   ],
   "source": [
    "svc = SVC(C=40, kernel='rbf', gamma='auto')\n",
    "svc.fit(X_train, y_train)\n",
    "svc.score(X_train, y_train)"
   ]
  },
  {
   "cell_type": "code",
   "execution_count": 564,
   "metadata": {},
   "outputs": [
    {
     "data": {
      "text/plain": [
       "(array([ 0.87091914,  0.88749372,  0.8839779 ]), 0.88079691947095251)"
      ]
     },
     "execution_count": 564,
     "metadata": {},
     "output_type": "execute_result"
    }
   ],
   "source": [
    "cross_val_score(svc, X_val, y_val), cross_val_score(svc, X_val, y_val).mean()"
   ]
  },
  {
   "cell_type": "code",
   "execution_count": 565,
   "metadata": {},
   "outputs": [
    {
     "data": {
      "text/plain": [
       "0    113349\n",
       "1      2944\n",
       "Name: WnvPresent, dtype: int64"
      ]
     },
     "execution_count": 565,
     "metadata": {},
     "output_type": "execute_result"
    }
   ],
   "source": [
    "preds = svc.predict(X_test)\n",
    "preds_df = pd.DataFrame(preds, columns=['WnvPresent'])\n",
    "preds_df['WnvPresent'].value_counts()"
   ]
  },
  {
   "cell_type": "code",
   "execution_count": 566,
   "metadata": {},
   "outputs": [],
   "source": [
    "svc_sub = pd.concat([X_test_ids, preds_df], ignore_index=True, axis=1)\n",
    "svc_sub = ada_sub.rename(columns={0: \"Id\", 1: \"WnvPresent\"})\n",
    "svc_sub.to_csv('svc2_submission.csv', index=False)"
   ]
  },
  {
   "cell_type": "code",
   "execution_count": null,
   "metadata": {},
   "outputs": [],
   "source": []
  }
 ],
 "metadata": {
  "kernelspec": {
   "display_name": "Python [conda env:anaconda3]",
   "language": "python",
   "name": "conda-env-anaconda3-py"
  },
  "language_info": {
   "codemirror_mode": {
    "name": "ipython",
    "version": 3
   },
   "file_extension": ".py",
   "mimetype": "text/x-python",
   "name": "python",
   "nbconvert_exporter": "python",
   "pygments_lexer": "ipython3",
   "version": "3.6.5"
  }
 },
 "nbformat": 4,
 "nbformat_minor": 2
}
